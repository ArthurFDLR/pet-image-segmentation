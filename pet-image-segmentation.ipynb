{
  "nbformat": 4,
  "nbformat_minor": 5,
  "metadata": {
    "kernelspec": {
      "display_name": "Python 3",
      "language": "python",
      "name": "python3"
    },
    "language_info": {
      "codemirror_mode": {
        "name": "ipython",
        "version": 3
      },
      "file_extension": ".py",
      "mimetype": "text/x-python",
      "name": "python",
      "nbconvert_exporter": "python",
      "pygments_lexer": "ipython3",
      "version": "3.8.5"
    },
    "colab": {
      "name": "pet-image-segmentation.ipynb",
      "provenance": [],
      "include_colab_link": true
    }
  },
  "cells": [
    {
      "cell_type": "markdown",
      "metadata": {
        "id": "view-in-github",
        "colab_type": "text"
      },
      "source": [
        "<a href=\"https://colab.research.google.com/github/ArthurFDLR/pet-image-segmentation/blob/main/pet-image-segmentation.ipynb\" target=\"_parent\"><img src=\"https://colab.research.google.com/assets/colab-badge.svg\" alt=\"Open In Colab\"/></a>"
      ]
    },
    {
      "cell_type": "code",
      "metadata": {
        "id": "d52cfc19-5d57-494b-8c6d-a9e010d28398"
      },
      "source": [
        "import tensorflow as tf\n",
        "gpus = tf.config.experimental.list_physical_devices('GPU')\n",
        "if gpus:\n",
        "    try:\n",
        "    # Currently, memory growth needs to be the same across GPUs\n",
        "        for gpu in gpus:\n",
        "            tf.config.experimental.set_memory_growth(gpu, True)\n",
        "        logical_gpus = tf.config.experimental.list_logical_devices('GPU')\n",
        "        print(len(gpus), \"Physical GPUs,\", len(logical_gpus), \"Logical GPUs\")\n",
        "    except RuntimeError as e:\n",
        "    # Memory growth must be set before GPUs have been initialized\n",
        "        print(e)\n",
        "\n",
        "import tensorflow_datasets as tfds\n",
        "!pip install git+https://github.com/tensorflow/examples.git\n",
        "from tensorflow_examples.models.pix2pix import pix2pix\n",
        "import numpy as np\n",
        "\n",
        "import matplotlib.pyplot as plt\n",
        "import matplotlib.patches as mpatches\n",
        "from matplotlib.lines import Line2D\n",
        "import matplotlib as mpl\n",
        "from matplotlib.ticker import MaxNLocator\n",
        "mpl.rcParams['figure.dpi'] = 300\n",
        "plt.style.use('ggplot')"
      ],
      "id": "d52cfc19-5d57-494b-8c6d-a9e010d28398",
      "execution_count": null,
      "outputs": []
    },
    {
      "cell_type": "markdown",
      "metadata": {
        "id": "458b3fdf-4c89-47a0-832c-578a15469ad9"
      },
      "source": [
        "# Digit classification"
      ],
      "id": "458b3fdf-4c89-47a0-832c-578a15469ad9"
    },
    {
      "cell_type": "code",
      "metadata": {
        "id": "302f6a59-4602-4208-9234-ae74cf8b58f6"
      },
      "source": [
        "def get_models_history(histories):\n",
        "    fig, axs = plt.subplots(1, 2, figsize=(14,5))\n",
        "    colors_graph = [\n",
        "    \"#927ced\",\n",
        "    \"#73bd4d\",\n",
        "    \"#e462c0\",\n",
        "    \"#eb5e52\"]\n",
        "    handles = []\n",
        "    for (model_name, history), color in zip(histories.items(), colors_graph):\n",
        "        axs[0].plot(history.history['loss'], c=color, ls='-.', alpha=.7, marker='o', ms=3)\n",
        "        axs[0].plot(history.history['val_loss'], label=model_name, c=color, marker='o', ms=3)\n",
        "        axs[1].plot(history.history['accuracy'], c=color, ls='-.', alpha=.7, marker='o', ms=3)\n",
        "        axs[1].plot(history.history['val_accuracy'], label=model_name, c=color, marker='o', ms=3)\n",
        "        handles.append(mpatches.Patch(color=color, label=model_name))\n",
        "    for ax in axs:\n",
        "        ax.set_xlabel('Epoch')\n",
        "        ax.xaxis.set_major_locator(MaxNLocator(integer=True))\n",
        "    axs[0].set_ylabel('loss')\n",
        "    axs[1].set_ylabel('accuracy')\n",
        "    handles.append(Line2D([0], [0], color='grey', lw=1, ls='-', label='validation'))\n",
        "    handles.append(Line2D([0], [0], color='grey', lw=1, ls='-.', label='training'))\n",
        "    fig.subplots_adjust(right=0.85)\n",
        "    fig.legend(handles=handles,\n",
        "        loc=\"center right\",\n",
        "        borderaxespad=1)\n",
        "    return fig"
      ],
      "id": "302f6a59-4602-4208-9234-ae74cf8b58f6",
      "execution_count": null,
      "outputs": []
    },
    {
      "cell_type": "markdown",
      "metadata": {
        "id": "3bf527fe-1450-4a58-b537-9c9fc8350f07"
      },
      "source": [
        "## Import data"
      ],
      "id": "3bf527fe-1450-4a58-b537-9c9fc8350f07"
    },
    {
      "cell_type": "code",
      "metadata": {
        "id": "08d84ac9-d411-4b87-8177-a241554d4a15"
      },
      "source": [
        "mnist = tf.keras.datasets.mnist\n",
        "\n",
        "(x_train, y_train),(x_test, y_test) = mnist.load_data() # Load data\n",
        "\n",
        "x_train_expand = x_train.reshape((x_train.shape[0], 28, 28, 1))\n",
        "x_test_expand = x_test.reshape((x_test.shape[0], 28, 28, 1))\n",
        "\n",
        "x_train_expand = x_train_expand.astype('float16')\n",
        "x_test_expand = x_test_expand.astype('float16')\n",
        "\n",
        "x_train_normalize = x_train_expand/(2**8-1)\n",
        "x_test_normalize = x_test_expand/(2**8-1)\n",
        "\n",
        "num_class = len(np.unique(y_train)) #10\n",
        "input_shape = x_train_expand.shape[1:4] #(28,28,1)\n",
        "y_train = tf.keras.utils.to_categorical(y_train, num_class)\n",
        "y_test = tf.keras.utils.to_categorical(y_test, num_class)\n",
        "\n",
        "print('Shape of x_train: '+str(x_train_expand.shape))\n",
        "print('Shape of y_train: '+str(y_train.shape))"
      ],
      "id": "08d84ac9-d411-4b87-8177-a241554d4a15",
      "execution_count": null,
      "outputs": []
    },
    {
      "cell_type": "markdown",
      "metadata": {
        "id": "62bc24be-cc9e-4cd8-8795-643478dee907"
      },
      "source": [
        "## Build model"
      ],
      "id": "62bc24be-cc9e-4cd8-8795-643478dee907"
    },
    {
      "cell_type": "code",
      "metadata": {
        "id": "c5ce0588-5e48-4849-93eb-b13f6518de06"
      },
      "source": [
        "training_histories = {}\n",
        "model = tf.keras.Sequential(\n",
        "    [\n",
        "        tf.keras.layers.Input(shape=input_shape),\n",
        "        tf.keras.layers.Conv2D(filters=8, kernel_size=(5, 5), strides=1, activation=\"relu\", padding=\"same\"),\n",
        "        tf.keras.layers.MaxPooling2D(pool_size=(2, 2)),\n",
        "        tf.keras.layers.Conv2D(filters=16, kernel_size=(3, 3), strides=1, activation=\"relu\", padding=\"same\"),\n",
        "        tf.keras.layers.Flatten(),\n",
        "        tf.keras.layers.Dense(units=32, activation=\"relu\"),\n",
        "        tf.keras.layers.Dense(units=num_class, activation=\"softmax\"),\n",
        "    ], name=\"SimpleCNN\"\n",
        ")\n",
        "model.summary()\n",
        "model_init = model.get_weights()\n",
        "\n",
        "val_split = 0.3"
      ],
      "id": "c5ce0588-5e48-4849-93eb-b13f6518de06",
      "execution_count": null,
      "outputs": []
    },
    {
      "cell_type": "markdown",
      "metadata": {
        "id": "c06e387d-3b45-4e9c-9351-8e9875094a4a"
      },
      "source": [
        "## Training"
      ],
      "id": "c06e387d-3b45-4e9c-9351-8e9875094a4a"
    },
    {
      "cell_type": "code",
      "metadata": {
        "id": "b0737415-2e0f-4804-adcf-2867061be3f7"
      },
      "source": [
        "ep = 5 # number of epochs\n",
        "model.set_weights(model_init)\n",
        "model.compile(loss=\"categorical_crossentropy\", optimizer=tf.keras.optimizers.Adam(), metrics=[\"accuracy\"])\n",
        "training_histories[\"lr:.001\"] = model.fit(x=x_train_expand, y=y_train, validation_split=val_split, epochs=ep, shuffle=True)\n",
        "\n",
        "test_loss, test_acc = model.evaluate(x=x_test_expand, y=y_test)\n",
        "print('\\nTest accuracy:', test_acc)"
      ],
      "id": "b0737415-2e0f-4804-adcf-2867061be3f7",
      "execution_count": null,
      "outputs": []
    },
    {
      "cell_type": "code",
      "metadata": {
        "id": "36aa07a9-42c8-4252-bb4c-94a23cc84ac2"
      },
      "source": [
        "ep = 5 # number of epochs\n",
        "model.set_weights(model_init)\n",
        "model.compile(loss=\"categorical_crossentropy\", optimizer=tf.keras.optimizers.Adam(), metrics=[\"accuracy\"])\n",
        "training_histories[\"lr:.001 - Normalized\"] = model.fit(x=x_train_normalize, y=y_train, validation_split=val_split, epochs=ep, shuffle=True)\n",
        "\n",
        "test_loss, test_acc = model.evaluate(x=x_test_expand, y=y_test)\n",
        "print('\\nTest accuracy:', test_acc)"
      ],
      "id": "36aa07a9-42c8-4252-bb4c-94a23cc84ac2",
      "execution_count": null,
      "outputs": []
    },
    {
      "cell_type": "code",
      "metadata": {
        "id": "3e92af20-016d-49f6-8553-148664811bed"
      },
      "source": [
        "ep = 10 # number of epochs\n",
        "model.set_weights(model_init)\n",
        "model.compile(loss=\"categorical_crossentropy\", optimizer=tf.keras.optimizers.Adam(learning_rate=1.0), metrics=[\"accuracy\"])\n",
        "training_histories[\"lr:1.0 - Normalized\"] = model.fit(x=x_train_normalize, y=y_train, validation_split=val_split, epochs=ep, shuffle=True)\n",
        "\n",
        "test_loss, test_acc = model.evaluate(x=x_test_expand, y=y_test)\n",
        "print('\\nTest accuracy:', test_acc)"
      ],
      "id": "3e92af20-016d-49f6-8553-148664811bed",
      "execution_count": null,
      "outputs": []
    },
    {
      "cell_type": "code",
      "metadata": {
        "id": "ede05f4c-45b9-4965-8798-9ab5eea68bd5"
      },
      "source": [
        "ep = 10 # number of epochs\n",
        "model.set_weights(model_init)\n",
        "model.compile(loss=\"categorical_crossentropy\", optimizer=tf.keras.optimizers.Adam(learning_rate=1.0e-7), metrics=[\"accuracy\"])\n",
        "training_histories[\"lr:1e-7 - Normalized\"] = model.fit(x=x_train_normalize, y=y_train, validation_split=val_split, epochs=ep, shuffle=True)\n",
        "\n",
        "test_loss, test_acc = model.evaluate(x=x_test_expand, y=y_test)\n",
        "print('\\nTest accuracy:', test_acc)"
      ],
      "id": "ede05f4c-45b9-4965-8798-9ab5eea68bd5",
      "execution_count": null,
      "outputs": []
    },
    {
      "cell_type": "code",
      "metadata": {
        "id": "975c89b9-d2f6-4afb-b921-3b47725a98f5"
      },
      "source": [
        "get_models_history(training_histories)"
      ],
      "id": "975c89b9-d2f6-4afb-b921-3b47725a98f5",
      "execution_count": null,
      "outputs": []
    },
    {
      "cell_type": "markdown",
      "metadata": {
        "id": "22fb1b92-434e-4f8a-9eb1-8671214bac28"
      },
      "source": [
        "# Semantic segmentation"
      ],
      "id": "22fb1b92-434e-4f8a-9eb1-8671214bac28"
    },
    {
      "cell_type": "code",
      "metadata": {
        "id": "c81331c0-b30d-40e5-8bc2-453cba5f70fa"
      },
      "source": [
        "def get_models_history_(history):\n",
        "    fig, axs = plt.subplots(1, 2, figsize=(14,5))\n",
        "    color = \"#927ced\"\n",
        "    axs[0].plot(history.history['loss'], c=color, ls='-.', marker='o', ms=3, alpha=.7)\n",
        "    axs[0].plot(history.history['val_loss'], c=color, marker='o', ms=3)\n",
        "    axs[1].plot(history.history['accuracy'], c=color, ls='-.', marker='o', ms=3, alpha=.7)\n",
        "    axs[1].plot(history.history['val_accuracy'], c=color, marker='o', ms=3)\n",
        "    for ax in axs:\n",
        "        ax.set_xlabel('Epoch')\n",
        "        ax.xaxis.set_major_locator(MaxNLocator(integer=True))\n",
        "    axs[0].set_ylabel('loss')\n",
        "    axs[1].set_ylabel('accuracy')\n",
        "    handles = []\n",
        "    handles.append(Line2D([0], [0], color='grey', lw=1, ls='-', label='validation'))\n",
        "    handles.append(Line2D([0], [0], color='grey', lw=1, ls='-.', label='training'))\n",
        "    fig.subplots_adjust(right=0.85)\n",
        "    fig.legend(handles=handles,\n",
        "        loc=\"center right\",\n",
        "        borderaxespad=1)\n",
        "    return fig\n",
        "\n",
        "def display(display_list):\n",
        "    plt.figure(figsize=(15, 15))\n",
        "\n",
        "    title = ['Input Image', 'True Mask', 'Predicted Mask']\n",
        "\n",
        "    for i in range(len(display_list)):\n",
        "        plt.subplot(1, len(display_list), i+1)\n",
        "        plt.title(title[i])\n",
        "        plt.imshow(tf.keras.preprocessing.image.array_to_img(display_list[i]))\n",
        "        plt.axis('off')\n",
        "    plt.show()\n",
        "\n",
        "def create_mask(pred_mask):\n",
        "    pred_mask = tf.argmax(pred_mask, axis=-1)\n",
        "    pred_mask = pred_mask[..., tf.newaxis]\n",
        "    return pred_mask[0]"
      ],
      "id": "c81331c0-b30d-40e5-8bc2-453cba5f70fa",
      "execution_count": null,
      "outputs": []
    },
    {
      "cell_type": "markdown",
      "metadata": {
        "id": "1d8e2917-10ed-4415-bfcb-ff01c52c7a6b"
      },
      "source": [
        "## Import data"
      ],
      "id": "1d8e2917-10ed-4415-bfcb-ff01c52c7a6b"
    },
    {
      "cell_type": "code",
      "metadata": {
        "id": "b076da5c-e776-40a0-93e3-4004c1060046"
      },
      "source": [
        "def normalize(input_image, input_mask):\n",
        "    input_image = tf.cast(input_image, tf.float32) / 255.0\n",
        "    input_mask -= 1\n",
        "    return input_image, input_mask\n",
        "\n",
        "@tf.function\n",
        "def load_image_train(datapoint):\n",
        "    input_image = tf.image.resize(datapoint['image'], (128, 128))\n",
        "    input_mask = tf.image.resize(datapoint['segmentation_mask'], (128, 128))\n",
        "\n",
        "    if tf.random.uniform(()) > 0.5:\n",
        "        input_image = tf.image.flip_left_right(input_image)\n",
        "        input_mask = tf.image.flip_left_right(input_mask)\n",
        "\n",
        "    input_image, input_mask = normalize(input_image, input_mask)\n",
        "\n",
        "    return input_image, input_mask\n",
        "\n",
        "@tf.function\n",
        "def load_image_test(datapoint):\n",
        "    input_image = tf.image.resize(datapoint['image'], (128, 128))\n",
        "    input_mask = tf.image.resize(datapoint['segmentation_mask'], (128, 128))\n",
        "\n",
        "    input_image, input_mask = normalize(input_image, input_mask)\n",
        "\n",
        "    return input_image, input_mask"
      ],
      "id": "b076da5c-e776-40a0-93e3-4004c1060046",
      "execution_count": null,
      "outputs": []
    },
    {
      "cell_type": "code",
      "metadata": {
        "id": "0c432509-73de-40f2-9ae5-e73343b87368"
      },
      "source": [
        "dataset, info = tfds.load('oxford_iiit_pet:3.*.*', with_info=True)\n",
        "TRAIN_LENGTH = info.splits['train'].num_examples\n",
        "BATCH_SIZE = 32\n",
        "BUFFER_SIZE = 1000\n",
        "STEPS_PER_EPOCH = TRAIN_LENGTH // BATCH_SIZE\n",
        "\n",
        "train = dataset['train'].map(load_image_train, num_parallel_calls=tf.data.experimental.AUTOTUNE)\n",
        "test = dataset['test'].map(load_image_test)\n",
        "\n",
        "train_dataset = train.cache().shuffle(BUFFER_SIZE).batch(BATCH_SIZE).repeat()\n",
        "train_dataset = train_dataset.prefetch(buffer_size=tf.data.experimental.AUTOTUNE)\n",
        "test_dataset = test.batch(BATCH_SIZE)\n",
        "\n",
        "for image, mask in train.take(5):\n",
        "    sample_image, sample_mask = image, mask\n",
        "display([sample_image, sample_mask])"
      ],
      "id": "0c432509-73de-40f2-9ae5-e73343b87368",
      "execution_count": null,
      "outputs": []
    },
    {
      "cell_type": "markdown",
      "metadata": {
        "id": "72b7c8cb-52c8-4fda-93e6-d1d1e6edc6c8"
      },
      "source": [
        "## Build model"
      ],
      "id": "72b7c8cb-52c8-4fda-93e6-d1d1e6edc6c8"
    },
    {
      "cell_type": "markdown",
      "metadata": {
        "id": "8599b7c7-1f65-46a7-8d83-b78712143f21"
      },
      "source": [
        "### Basic model"
      ],
      "id": "8599b7c7-1f65-46a7-8d83-b78712143f21"
    },
    {
      "cell_type": "code",
      "metadata": {
        "id": "1d772ee2-6c93-458c-8d88-209f7b9a5698"
      },
      "source": [
        "basic_model = tf.keras.Sequential(\n",
        "    [\n",
        "        tf.keras.layers.Input(shape=(128,128,3)),\n",
        "        tf.keras.layers.Conv2D(filters=16, kernel_size=(3, 3), strides=2, activation=\"relu\", padding=\"same\"),\n",
        "        tf.keras.layers.Conv2D(filters=32, kernel_size=(3, 3), strides=1, activation=\"relu\", padding=\"same\"),\n",
        "        tf.keras.layers.MaxPooling2D(pool_size=(2, 2)),\n",
        "        tf.keras.layers.Conv2D(filters=64, kernel_size=(3, 3), strides=1, activation=\"relu\", padding=\"same\"),\n",
        "        tf.keras.layers.Conv2DTranspose(filters=64, kernel_size=(3, 3), strides=2, activation=\"relu\", padding=\"same\"),\n",
        "        tf.keras.layers.Conv2DTranspose(filters=3, kernel_size=(3, 3), strides=2, padding=\"same\")\n",
        "    ]\n",
        ")\n",
        "basic_model.summary()"
      ],
      "id": "1d772ee2-6c93-458c-8d88-209f7b9a5698",
      "execution_count": null,
      "outputs": []
    },
    {
      "cell_type": "markdown",
      "metadata": {
        "id": "594ed739-e4a8-436e-9053-f196537d086c"
      },
      "source": [
        "### Custom U-Net"
      ],
      "id": "594ed739-e4a8-436e-9053-f196537d086c"
    },
    {
      "cell_type": "code",
      "metadata": {
        "id": "d7267398-d001-4dab-bd4c-70b83115f9c9"
      },
      "source": [
        "encoder_model = tf.keras.applications.MobileNetV2(input_shape=[128, 128, 3], include_top=False)\n",
        "\n",
        "# Use the activations of these layers\n",
        "layer_names = [\n",
        "    'block_1_expand_relu',   # 64x64\n",
        "    'block_3_expand_relu',   # 32x32\n",
        "    'block_6_expand_relu',   # 16x16\n",
        "    'block_13_expand_relu',  # 8x8\n",
        "    'block_16_project',      # 4x4\n",
        "]\n",
        "encoder_model_outputs = [encoder_model.get_layer(name).output for name in layer_names]\n",
        "\n",
        "# Create the feature extraction model\n",
        "encoder_stack = tf.keras.Model(inputs=encoder_model.input, outputs=encoder_model_outputs)\n",
        "\n",
        "encoder_stack.trainable = False\n",
        "\n",
        "decoder_stack = [\n",
        "    pix2pix.upsample(512, 3),  # 4x4 -> 8x8\n",
        "    pix2pix.upsample(256, 3),  # 8x8 -> 16x16\n",
        "    pix2pix.upsample(128, 3),  # 16x16 -> 32x32\n",
        "    pix2pix.upsample(64, 3),   # 32x32 -> 64x64\n",
        "]\n",
        "\n",
        "\n",
        "inputs = tf.keras.layers.Input(shape=[128, 128, 3])\n",
        "# Downsampling through the model\n",
        "skips = encoder_stack(inputs)\n",
        "x = skips[-1]\n",
        "skips = reversed(skips[:-1])\n",
        "\n",
        "# Upsampling and establishing the skip connections\n",
        "for up, skip in zip(decoder_stack, skips):\n",
        "    x = up(x)\n",
        "    concat = tf.keras.layers.Concatenate()\n",
        "    x = concat([x, skip])\n",
        "\n",
        "# This is the last layer of the model\n",
        "last = tf.keras.layers.Conv2DTranspose(\n",
        "  3, 3, strides=2,\n",
        "  padding='same')  #64x64 -> 128x128\n",
        "\n",
        "x = last(x)\n",
        "\n",
        "UNet_model = tf.keras.Model(inputs=inputs, outputs=x)\n",
        "UNet_model.summary()"
      ],
      "id": "d7267398-d001-4dab-bd4c-70b83115f9c9",
      "execution_count": null,
      "outputs": []
    },
    {
      "cell_type": "markdown",
      "metadata": {
        "id": "40d298a3-0496-436f-b640-fb15bd578263"
      },
      "source": [
        "## Train"
      ],
      "id": "40d298a3-0496-436f-b640-fb15bd578263"
    },
    {
      "cell_type": "code",
      "metadata": {
        "id": "61d73b08-6215-4be6-a410-739c3f8e1a05"
      },
      "source": [
        "training_histories = {}"
      ],
      "id": "61d73b08-6215-4be6-a410-739c3f8e1a05",
      "execution_count": null,
      "outputs": []
    },
    {
      "cell_type": "code",
      "metadata": {
        "id": "f21b96af-bbb0-42d2-a381-0dcfde3df19a"
      },
      "source": [
        "EPOCHS = 5\n",
        "VAL_SUBSPLITS = 5\n",
        "VALIDATION_STEPS = info.splits['test'].num_examples//BATCH_SIZE//VAL_SUBSPLITS\n",
        "\n",
        "basic_model.compile(optimizer='adam',\n",
        "              loss=tf.keras.losses.SparseCategoricalCrossentropy(from_logits=True),\n",
        "              metrics=['accuracy'])\n",
        "training_histories['Basic model'] = basic_model.fit(train_dataset, epochs=EPOCHS,\n",
        "                          steps_per_epoch=STEPS_PER_EPOCH,\n",
        "                          validation_steps=VALIDATION_STEPS,\n",
        "                          validation_data=test_dataset)"
      ],
      "id": "f21b96af-bbb0-42d2-a381-0dcfde3df19a",
      "execution_count": null,
      "outputs": []
    },
    {
      "cell_type": "code",
      "metadata": {
        "id": "ff8dd7d9-3050-4247-8b0c-1c898422d553"
      },
      "source": [
        "UNet_model.compile(optimizer='adam',\n",
        "              loss=tf.keras.losses.SparseCategoricalCrossentropy(from_logits=True),\n",
        "              metrics=['accuracy'])\n",
        "training_histories['Custom U-Net'] = UNet_model.fit(train_dataset, epochs=EPOCHS,\n",
        "                          steps_per_epoch=STEPS_PER_EPOCH,\n",
        "                          validation_steps=VALIDATION_STEPS,\n",
        "                          validation_data=test_dataset)"
      ],
      "id": "ff8dd7d9-3050-4247-8b0c-1c898422d553",
      "execution_count": null,
      "outputs": []
    },
    {
      "cell_type": "markdown",
      "metadata": {
        "id": "e6ed88f9-a47a-4a2a-9b31-bebbe1d118df"
      },
      "source": [
        "## Evaluate"
      ],
      "id": "e6ed88f9-a47a-4a2a-9b31-bebbe1d118df"
    },
    {
      "cell_type": "code",
      "metadata": {
        "id": "058d4b1a-26c3-4736-86ad-7b0db7ababf1"
      },
      "source": [
        "#for image, mask in test_dataset.take(3):\n",
        "#    pred_mask = UNet_model.predict(image)\n",
        "#    display([image[0], mask[0], create_mask(pred_mask)])\n",
        "\n",
        "get_models_history(training_histories)"
      ],
      "id": "058d4b1a-26c3-4736-86ad-7b0db7ababf1",
      "execution_count": null,
      "outputs": []
    },
    {
      "cell_type": "code",
      "metadata": {
        "id": "74b609f7-9076-4bee-88e0-21248d96e045"
      },
      "source": [
        ""
      ],
      "id": "74b609f7-9076-4bee-88e0-21248d96e045",
      "execution_count": null,
      "outputs": []
    }
  ]
}